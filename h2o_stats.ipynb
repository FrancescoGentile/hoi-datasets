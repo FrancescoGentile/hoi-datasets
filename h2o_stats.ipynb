{
 "cells": [
  {
   "cell_type": "code",
   "execution_count": 1,
   "metadata": {},
   "outputs": [],
   "source": [
    "from hoi.datasets import H2ODataset\n",
    "from collections import Counter"
   ]
  },
  {
   "cell_type": "code",
   "execution_count": 2,
   "metadata": {},
   "outputs": [],
   "source": [
    "dataset = H2ODataset(\"datasets/h2o/\")"
   ]
  },
  {
   "cell_type": "code",
   "execution_count": 10,
   "metadata": {},
   "outputs": [],
   "source": [
    "different_subjects_same_target = 0\n",
    "same_subject_different_targets = 0\n",
    "total_actions = 0\n",
    "total_interactions = 0\n",
    "has_instrument = 0\n",
    "same_subject_target = 0\n",
    "\n",
    "dsst_samples = []\n",
    "ssdt_samples = []\n",
    "at_least_one = []\n",
    "both = []\n",
    "\n",
    "for _, sample in dataset:\n",
    "    actions: dict[str, list[tuple[int, int | None]]] = {}\n",
    "    for action in sample.actions:\n",
    "        total_actions += 1\n",
    "        if action.instrument is not None:\n",
    "            has_instrument += 1\n",
    "        \n",
    "        pairs = actions.get(action.verb, [])\n",
    "        pairs.append((action.subject, action.target))\n",
    "        actions[action.verb] = pairs\n",
    "        if action.target is not None:\n",
    "            total_interactions += 1\n",
    "\n",
    "    has_dsst = False\n",
    "    has_ssdt = False\n",
    "    \n",
    "    for pairs in actions.values():\n",
    "        subject_counter = Counter([pair[0] for pair in pairs if pair[1] is not None])\n",
    "        target_counter = Counter([pair[1] for pair in pairs if pair[1] is not None])\n",
    "\n",
    "        same_subject_target += sum([1 for subject in subject_counter if subject in target_counter])\n",
    "    \n",
    "        for subject, count in subject_counter.items():\n",
    "            if count > 1:\n",
    "                same_subject_different_targets += 1\n",
    "                has_ssdt = True\n",
    "        \n",
    "        for target, count in target_counter.items():\n",
    "            if count > 1:\n",
    "                different_subjects_same_target += 1\n",
    "                has_dsst = True\n",
    "        \n",
    "        if has_dsst:\n",
    "            dsst_samples.append(sample)\n",
    "        if has_ssdt:\n",
    "            ssdt_samples.append(sample)\n",
    "        \n",
    "        if has_dsst and has_ssdt:\n",
    "            both.append(sample)\n",
    "        if has_dsst or has_ssdt:\n",
    "            at_least_one.append(sample)"
   ]
  },
  {
   "cell_type": "code",
   "execution_count": 11,
   "metadata": {},
   "outputs": [
    {
     "data": {
      "text/plain": [
       "(141755, 48343, 1610, 2505, 1697, 2921)"
      ]
     },
     "execution_count": 11,
     "metadata": {},
     "output_type": "execute_result"
    }
   ],
   "source": [
    "total_actions, total_interactions, has_instrument, different_subjects_same_target, same_subject_different_targets, same_subject_target"
   ]
  },
  {
   "cell_type": "code",
   "execution_count": 9,
   "metadata": {},
   "outputs": [
    {
     "data": {
      "text/plain": [
       "(13896, 6061, 3738, 741, 9058)"
      ]
     },
     "execution_count": 9,
     "metadata": {},
     "output_type": "execute_result"
    }
   ],
   "source": [
    "len(dataset), len(dsst_samples), len(ssdt_samples), len(both), len(at_least_one)"
   ]
  }
 ],
 "metadata": {
  "kernelspec": {
   "display_name": ".venv",
   "language": "python",
   "name": "python3"
  },
  "language_info": {
   "codemirror_mode": {
    "name": "ipython",
    "version": 3
   },
   "file_extension": ".py",
   "mimetype": "text/x-python",
   "name": "python",
   "nbconvert_exporter": "python",
   "pygments_lexer": "ipython3",
   "version": "3.11.5"
  },
  "orig_nbformat": 4
 },
 "nbformat": 4,
 "nbformat_minor": 2
}
